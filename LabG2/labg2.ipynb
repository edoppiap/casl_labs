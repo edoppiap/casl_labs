{
 "cells": [
  {
   "cell_type": "code",
   "execution_count": null,
   "metadata": {},
   "outputs": [],
   "source": [
    "# x = uniform(0,10)\n",
    "# estimate E(x) (the average)\n",
    "# -> number of experiments = N\n",
    "# -> confidence levels = L (E[0,1])\n",
    "\n",
    "# define proprerty all the input parameters\n",
    "\n",
    "# the y axis is the accuracy\n",
    "# the x axis is the N\n",
    "\n",
    "# the y axis is the accuracy\n",
    "# the x axis is L (width of interval)\n",
    "\n",
    "# the y axis is the confidence interval (two curves for the upper bound and the lower bound)\n",
    "# the x axis is N\n",
    "\n",
    "# the y axis is the conf\n",
    "# the x axis is L"
   ]
  },
  {
   "cell_type": "code",
   "execution_count": 29,
   "metadata": {},
   "outputs": [
    {
     "data": {
      "text/plain": [
       "(13.0, 2.3664319132398464, 5.6, 0.966091783079296)"
      ]
     },
     "execution_count": 29,
     "metadata": {},
     "output_type": "execute_result"
    }
   ],
   "source": [
    "import numpy as np\n",
    "\n",
    "# X = np.random.uniform(0,10,1000)\n",
    "\n",
    "X = np.array([12,11,14,15,10,16])\n",
    "\n",
    "mean = X.mean()\n",
    "std = X.std(ddof=1)\n",
    "var = X.var(ddof=1)\n",
    "\n",
    "se = std / (len(X)**(1/2))\n",
    "\n",
    "mean,std,var,se"
   ]
  },
  {
   "cell_type": "code",
   "execution_count": 33,
   "metadata": {},
   "outputs": [
    {
     "name": "stdout",
     "output_type": "stream",
     "text": [
      "Relative error: 25.01%\n",
      "Accuracy: 74.99%\n"
     ]
    }
   ],
   "source": [
    "from scipy.stats import t\n",
    "\n",
    "interval = t.interval(.98, len(X)-1, loc=mean, scale=se)\n",
    "MOE = interval[1] - interval[0]\n",
    "re = (MOE / (2 * abs(mean)))\n",
    "acc = 1 - re\n",
    "\n",
    "print(f'Relative error: {re*100:.2f}%\\nAccuracy: {acc*100:.2f}%')"
   ]
  },
  {
   "cell_type": "code",
   "execution_count": 66,
   "metadata": {},
   "outputs": [
    {
     "name": "stdout",
     "output_type": "stream",
     "text": [
      "Relative error: 25.01%\n",
      "Accuracy: 74.99%\n"
     ]
    }
   ],
   "source": [
    "def calculate_confidence_interval(X,C):\n",
    "    mean = X.mean()\n",
    "    std = X.std(ddof=1)\n",
    "    se = std / (len(X)**(1/2)) # this is the standard error\n",
    "    \n",
    "    interval = t.interval(confidence = C, # confidence level\n",
    "                          df = len(X)-1, # degree of freedom\n",
    "                          loc = mean, # center of the distribution\n",
    "                          scale = std # spread of the distribution (we use the standard error as we use the extimate of the mean and not the real mean)\n",
    "                          )\n",
    "    \n",
    "    re = (MOE / (2 * abs(mean))) # this is the relative error\n",
    "    \n",
    "    return interval,re\n",
    "\n",
    "X = np.array([12,11,14,15,10,16])\n",
    "interval,re = calculate_confidence_interval(X,C=.98)\n",
    "print(f'Relative error: {re*100:.2f}%\\nAccuracy: {(1 - re)*100:.2f}%')\n"
   ]
  },
  {
   "cell_type": "code",
   "execution_count": 79,
   "metadata": {},
   "outputs": [],
   "source": [
    "import pandas as pd\n",
    "\n",
    "Ns = np.arange(100,100_000,1000)\n",
    "Cs = np.arange(.85,.99,.02)\n",
    "\n",
    "results = []\n",
    "for N in Ns:\n",
    "    for C in Cs:\n",
    "        X = np.random.uniform(0,10,N)\n",
    "        interval,re = calculate_confidence_interval(X,C=C)\n",
    "        results.append((N,C,1 - re))"
   ]
  },
  {
   "cell_type": "code",
   "execution_count": 81,
   "metadata": {},
   "outputs": [
    {
     "data": {
      "text/html": [
       "<div>\n",
       "<style scoped>\n",
       "    .dataframe tbody tr th:only-of-type {\n",
       "        vertical-align: middle;\n",
       "    }\n",
       "\n",
       "    .dataframe tbody tr th {\n",
       "        vertical-align: top;\n",
       "    }\n",
       "\n",
       "    .dataframe thead th {\n",
       "        text-align: right;\n",
       "    }\n",
       "</style>\n",
       "<table border=\"1\" class=\"dataframe\">\n",
       "  <thead>\n",
       "    <tr style=\"text-align: right;\">\n",
       "      <th></th>\n",
       "      <th>N</th>\n",
       "      <th>C</th>\n",
       "      <th>Accuracy</th>\n",
       "    </tr>\n",
       "  </thead>\n",
       "  <tbody>\n",
       "    <tr>\n",
       "      <th>4</th>\n",
       "      <td>100</td>\n",
       "      <td>0.93</td>\n",
       "      <td>0.321440</td>\n",
       "    </tr>\n",
       "    <tr>\n",
       "      <th>12</th>\n",
       "      <td>1100</td>\n",
       "      <td>0.93</td>\n",
       "      <td>0.337352</td>\n",
       "    </tr>\n",
       "    <tr>\n",
       "      <th>20</th>\n",
       "      <td>2100</td>\n",
       "      <td>0.93</td>\n",
       "      <td>0.352448</td>\n",
       "    </tr>\n",
       "    <tr>\n",
       "      <th>28</th>\n",
       "      <td>3100</td>\n",
       "      <td>0.93</td>\n",
       "      <td>0.343984</td>\n",
       "    </tr>\n",
       "    <tr>\n",
       "      <th>36</th>\n",
       "      <td>4100</td>\n",
       "      <td>0.93</td>\n",
       "      <td>0.349227</td>\n",
       "    </tr>\n",
       "  </tbody>\n",
       "</table>\n",
       "</div>"
      ],
      "text/plain": [
       "       N     C  Accuracy\n",
       "4    100  0.93  0.321440\n",
       "12  1100  0.93  0.337352\n",
       "20  2100  0.93  0.352448\n",
       "28  3100  0.93  0.343984\n",
       "36  4100  0.93  0.349227"
      ]
     },
     "execution_count": 81,
     "metadata": {},
     "output_type": "execute_result"
    }
   ],
   "source": [
    "results_df = pd.DataFrame(results, columns=['N', 'C', 'Accuracy'])\n",
    "results_df[results_df['C'] == .93].head()"
   ]
  }
 ],
 "metadata": {
  "kernelspec": {
   "display_name": "Python 3",
   "language": "python",
   "name": "python3"
  },
  "language_info": {
   "codemirror_mode": {
    "name": "ipython",
    "version": 3
   },
   "file_extension": ".py",
   "mimetype": "text/x-python",
   "name": "python",
   "nbconvert_exporter": "python",
   "pygments_lexer": "ipython3",
   "version": "3.10.11"
  }
 },
 "nbformat": 4,
 "nbformat_minor": 2
}
