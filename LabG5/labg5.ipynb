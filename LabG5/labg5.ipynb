{
 "cells": [
  {
   "cell_type": "markdown",
   "metadata": {},
   "source": [
    "Correlazione tra voto e sport professato"
   ]
  },
  {
   "cell_type": "code",
   "execution_count": 14,
   "metadata": {},
   "outputs": [
    {
     "data": {
      "text/html": [
       "<div>\n",
       "<style scoped>\n",
       "    .dataframe tbody tr th:only-of-type {\n",
       "        vertical-align: middle;\n",
       "    }\n",
       "\n",
       "    .dataframe tbody tr th {\n",
       "        vertical-align: top;\n",
       "    }\n",
       "\n",
       "    .dataframe thead th {\n",
       "        text-align: right;\n",
       "    }\n",
       "</style>\n",
       "<table border=\"1\" class=\"dataframe\">\n",
       "  <thead>\n",
       "    <tr style=\"text-align: right;\">\n",
       "      <th></th>\n",
       "      <th>Name</th>\n",
       "      <th>Year</th>\n",
       "      <th>semester</th>\n",
       "      <th>CFU</th>\n",
       "      <th>group</th>\n",
       "      <th>optional</th>\n",
       "      <th>max_stud</th>\n",
       "      <th>passed</th>\n",
       "      <th>tot</th>\n",
       "      <th>18</th>\n",
       "      <th>...</th>\n",
       "      <th>21</th>\n",
       "      <th>22</th>\n",
       "      <th>23</th>\n",
       "      <th>24</th>\n",
       "      <th>25</th>\n",
       "      <th>26</th>\n",
       "      <th>27</th>\n",
       "      <th>28</th>\n",
       "      <th>29</th>\n",
       "      <th>30</th>\n",
       "    </tr>\n",
       "  </thead>\n",
       "  <tbody>\n",
       "    <tr>\n",
       "      <th>0</th>\n",
       "      <td>Computer-aided simulations lab</td>\n",
       "      <td>2</td>\n",
       "      <td>1</td>\n",
       "      <td>8</td>\n",
       "      <td>0</td>\n",
       "      <td>3</td>\n",
       "      <td>NaN</td>\n",
       "      <td>28.0</td>\n",
       "      <td>74.0</td>\n",
       "      <td>2.0</td>\n",
       "      <td>...</td>\n",
       "      <td>0.0</td>\n",
       "      <td>1.0</td>\n",
       "      <td>3.0</td>\n",
       "      <td>0.0</td>\n",
       "      <td>1.0</td>\n",
       "      <td>1.0</td>\n",
       "      <td>1.0</td>\n",
       "      <td>2.0</td>\n",
       "      <td>5.0</td>\n",
       "      <td>10.0</td>\n",
       "    </tr>\n",
       "    <tr>\n",
       "      <th>1</th>\n",
       "      <td>Data management and visualization</td>\n",
       "      <td>1</td>\n",
       "      <td>1</td>\n",
       "      <td>8</td>\n",
       "      <td>0</td>\n",
       "      <td>NaN</td>\n",
       "      <td>NaN</td>\n",
       "      <td>180.0</td>\n",
       "      <td>229.0</td>\n",
       "      <td>26.0</td>\n",
       "      <td>...</td>\n",
       "      <td>7.0</td>\n",
       "      <td>3.0</td>\n",
       "      <td>10.0</td>\n",
       "      <td>9.0</td>\n",
       "      <td>20.0</td>\n",
       "      <td>14.0</td>\n",
       "      <td>22.0</td>\n",
       "      <td>17.0</td>\n",
       "      <td>18.0</td>\n",
       "      <td>7.0</td>\n",
       "    </tr>\n",
       "    <tr>\n",
       "      <th>2</th>\n",
       "      <td>Data science lab: process and methods</td>\n",
       "      <td>1</td>\n",
       "      <td>1</td>\n",
       "      <td>8</td>\n",
       "      <td>0,4</td>\n",
       "      <td>NaN</td>\n",
       "      <td>NaN</td>\n",
       "      <td>179.0</td>\n",
       "      <td>274.0</td>\n",
       "      <td>7.0</td>\n",
       "      <td>...</td>\n",
       "      <td>12.0</td>\n",
       "      <td>13.0</td>\n",
       "      <td>13.0</td>\n",
       "      <td>17.0</td>\n",
       "      <td>12.0</td>\n",
       "      <td>24.0</td>\n",
       "      <td>14.0</td>\n",
       "      <td>10.0</td>\n",
       "      <td>14.0</td>\n",
       "      <td>23.0</td>\n",
       "    </tr>\n",
       "    <tr>\n",
       "      <th>3</th>\n",
       "      <td>Computational linear algebra for large scale p...</td>\n",
       "      <td>1</td>\n",
       "      <td>1</td>\n",
       "      <td>8</td>\n",
       "      <td>0</td>\n",
       "      <td>1</td>\n",
       "      <td>NaN</td>\n",
       "      <td>56.0</td>\n",
       "      <td>75.0</td>\n",
       "      <td>0.0</td>\n",
       "      <td>...</td>\n",
       "      <td>0.0</td>\n",
       "      <td>0.0</td>\n",
       "      <td>1.0</td>\n",
       "      <td>2.0</td>\n",
       "      <td>5.0</td>\n",
       "      <td>2.0</td>\n",
       "      <td>2.0</td>\n",
       "      <td>13.0</td>\n",
       "      <td>4.0</td>\n",
       "      <td>27.0</td>\n",
       "    </tr>\n",
       "    <tr>\n",
       "      <th>4</th>\n",
       "      <td>Statistical methods in data science</td>\n",
       "      <td>1</td>\n",
       "      <td>1</td>\n",
       "      <td>8</td>\n",
       "      <td>0</td>\n",
       "      <td>1</td>\n",
       "      <td>NaN</td>\n",
       "      <td>135.0</td>\n",
       "      <td>208.0</td>\n",
       "      <td>21.0</td>\n",
       "      <td>...</td>\n",
       "      <td>7.0</td>\n",
       "      <td>5.0</td>\n",
       "      <td>10.0</td>\n",
       "      <td>4.0</td>\n",
       "      <td>4.0</td>\n",
       "      <td>6.0</td>\n",
       "      <td>11.0</td>\n",
       "      <td>13.0</td>\n",
       "      <td>9.0</td>\n",
       "      <td>19.0</td>\n",
       "    </tr>\n",
       "  </tbody>\n",
       "</table>\n",
       "<p>5 rows × 22 columns</p>\n",
       "</div>"
      ],
      "text/plain": [
       "                                                Name  Year  semester  CFU  \\\n",
       "0                     Computer-aided simulations lab     2         1    8   \n",
       "1                  Data management and visualization     1         1    8   \n",
       "2              Data science lab: process and methods     1         1    8   \n",
       "3  Computational linear algebra for large scale p...     1         1    8   \n",
       "4                Statistical methods in data science     1         1    8   \n",
       "\n",
       "  group optional  max_stud  passed    tot    18  ...    21    22    23    24  \\\n",
       "0     0        3       NaN    28.0   74.0   2.0  ...   0.0   1.0   3.0   0.0   \n",
       "1     0      NaN       NaN   180.0  229.0  26.0  ...   7.0   3.0  10.0   9.0   \n",
       "2   0,4      NaN       NaN   179.0  274.0   7.0  ...  12.0  13.0  13.0  17.0   \n",
       "3     0        1       NaN    56.0   75.0   0.0  ...   0.0   0.0   1.0   2.0   \n",
       "4     0        1       NaN   135.0  208.0  21.0  ...   7.0   5.0  10.0   4.0   \n",
       "\n",
       "     25    26    27    28    29    30  \n",
       "0   1.0   1.0   1.0   2.0   5.0  10.0  \n",
       "1  20.0  14.0  22.0  17.0  18.0   7.0  \n",
       "2  12.0  24.0  14.0  10.0  14.0  23.0  \n",
       "3   5.0   2.0   2.0  13.0   4.0  27.0  \n",
       "4   4.0   6.0  11.0  13.0   9.0  19.0  \n",
       "\n",
       "[5 rows x 22 columns]"
      ]
     },
     "execution_count": 14,
     "metadata": {},
     "output_type": "execute_result"
    }
   ],
   "source": [
    "import pandas as pd\n",
    "import numpy as np\n",
    "\n",
    "df = pd.read_csv('input_exams_.csv', sep=';')\n",
    "df['optional'] = df['optional'].replace(['No','no'], np.nan)\n",
    "#df['tot'] = df['tot'].replace([np.nan], None)\n",
    "#df['passed'] = df['passed'].replace([np.nan], None)\n",
    "df.head()"
   ]
  },
  {
   "cell_type": "code",
   "execution_count": 15,
   "metadata": {},
   "outputs": [],
   "source": [
    "from labg5 import Exam, Student"
   ]
  },
  {
   "cell_type": "code",
   "execution_count": 16,
   "metadata": {},
   "outputs": [
    {
     "name": "stdout",
     "output_type": "stream",
     "text": [
      "['Computer-aided simulations lab', 'Data management and visualization', 'Data science lab: process and methods', 'Computational linear algebra for large scale problems', 'Statistical methods in data science', 'Decision making and optimization', 'Information Theory for Data Science', 'Numerical optimization for large scale problems and Stochastic Optimization', 'Object oriented programming', 'Data Ethics and Data Protection', 'Distributed architectures for big data processing and analytics', 'Machine learning and Deep learning', 'Mathematics in Machine Learning', 'Innovation Management', 'Network Dynamics and Learning', 'Time dependent data with Markov chains', 'Deep natural language processing', 'Machine learning for IOT', 'Applied data science project', 'Challenge', 'Free ECTS credits', 'BioQuants', 'Cloud Computing', 'Computational intelligence', 'Financial Engineering', 'Human Computer Interaction', 'Information systems', 'Information systems security', 'Metodi quantitativi per la gestione del rischio', 'Modelli matematici per la Biomedicina', 'Internship', 'Web Application I']\n",
      "Applied data science project 35.0\n"
     ]
    }
   ],
   "source": [
    "exams = []\n",
    "for i,row in df.iterrows():\n",
    "    if not pd.isna(row['Name']):\n",
    "        exam = Exam(\n",
    "            name = row['Name'],\n",
    "            year = row['Year'],\n",
    "            semester = row['semester'],\n",
    "            passed = row['passed'],\n",
    "            tot = row['tot'],\n",
    "            cfu = row['CFU'],\n",
    "            optional = row['optional'],\n",
    "            max_stud = row['max_stud'] if not pd.isna(row['max_stud']) else None,\n",
    "            grade_distr= [row[f'{i}'] for i in range(18,31)]\n",
    "        )\n",
    "        exams.append(exam)\n",
    "print([exam.name for exam in exams])\n",
    "\n",
    "applied_exam = [exam for exam in exams if exam.name == 'Applied data science project'][0]\n",
    "print(applied_exam.name,applied_exam.max_stud)"
   ]
  },
  {
   "cell_type": "code",
   "execution_count": 17,
   "metadata": {},
   "outputs": [
    {
     "name": "stdout",
     "output_type": "stream",
     "text": [
      "Number of students that choose MLDL: 200 (100.00%)\n"
     ]
    }
   ],
   "source": [
    "applied = False\n",
    "i = 0\n",
    "c = 0\n",
    "while not applied and i < 200:\n",
    "    student = Student(all_exams=exams)    \n",
    "    if 'Machine learning and Deep learning' in [exam.name for exam in student.exams_to_take]:\n",
    "        c += 1\n",
    "    i+=1\n",
    "if c:\n",
    "    print(f'Number of students that choose MLDL: {c} ({c/i * 100:.2f}%)')\n",
    "else:\n",
    "    print('Not a single Applied student')"
   ]
  },
  {
   "cell_type": "code",
   "execution_count": 18,
   "metadata": {},
   "outputs": [
    {
     "name": "stdout",
     "output_type": "stream",
     "text": [
      "[('Computer-aided simulations lab', 83), ('Data management and visualization', 200), ('Data science lab: process and methods', 200), ('Computational linear algebra for large scale problems', 45), ('Statistical methods in data science', 155), ('Decision making and optimization', 30), ('Information Theory for Data Science', 18), ('Numerical optimization for large scale problems and Stochastic Optimization', 47), ('Object oriented programming', 105), ('Data Ethics and Data Protection', 200), ('Distributed architectures for big data processing and analytics', 200), ('Machine learning and Deep learning', 200), ('Mathematics in Machine Learning', 200), ('Innovation Management', 200), ('Network Dynamics and Learning', 93), ('Time dependent data with Markov chains', 24), ('Deep natural language processing', 105), ('Machine learning for IOT', 95), ('Applied data science project', 35), ('Challenge', 85), ('Free ECTS credits', 0), ('BioQuants', 39), ('Cloud Computing', 71), ('Computational intelligence', 56), ('Financial Engineering', 34), ('Human Computer Interaction', 75), ('Information systems', 65), ('Information systems security', 78), ('Metodi quantitativi per la gestione del rischio', 40), ('Modelli matematici per la Biomedicina', 56), ('Internship', 0), ('Web Application I', 70)]\n"
     ]
    }
   ],
   "source": [
    "print([(exam.name,exam.studs) for exam in exams])"
   ]
  },
  {
   "cell_type": "code",
   "execution_count": 19,
   "metadata": {},
   "outputs": [
    {
     "name": "stdout",
     "output_type": "stream",
     "text": [
      "Table 5: ['Challenge', 'Free ECTS credits']\n",
      "Choice: Free ECTS credits\n"
     ]
    },
    {
     "data": {
      "text/plain": [
       "['Data management and visualization',\n",
       " 'Data science lab: process and methods',\n",
       " 'Data Ethics and Data Protection',\n",
       " 'Distributed architectures for big data processing and analytics',\n",
       " 'Machine learning and Deep learning',\n",
       " 'Mathematics in Machine Learning',\n",
       " 'Innovation Management',\n",
       " 'Network Dynamics and Learning',\n",
       " 'Statistical methods in data science',\n",
       " 'Object oriented programming',\n",
       " 'Machine learning for IOT',\n",
       " 'Human Computer Interaction',\n",
       " 'Web Application I',\n",
       " 'Modelli matematici per la Biomedicina',\n",
       " 'BioQuants',\n",
       " 'Cloud Computing',\n",
       " 'Computational intelligence',\n",
       " 'Information systems security']"
      ]
     },
     "execution_count": 19,
     "metadata": {},
     "output_type": "execute_result"
    }
   ],
   "source": [
    "import random\n",
    "TOT_CFU = 132\n",
    "\n",
    "def generate_accademic_plan(exams: list):\n",
    "        exam_dict = {}\n",
    "        mandatory, chosen = [], []\n",
    "        for exam in exams:\n",
    "            optional = exam.optional\n",
    "            if optional is not np.nan:\n",
    "                if optional not in exam_dict:\n",
    "                    exam_dict[optional] = [exam]\n",
    "                else:\n",
    "                    exam_dict[optional].append(exam)\n",
    "            else:\n",
    "                mandatory.append(exam)\n",
    "        for key, exam_table in exam_dict.items():\n",
    "            exam_table = [exam for exam in exam_table if exam.has_available_space()]\n",
    "            tots = np.array([exam.tot for exam in exam_table])\n",
    "            \n",
    "            # we select the exams based on the past data of the enrollment\n",
    "            if key != '5' and key != '6':\n",
    "                chosen_exam = random.choices(exam_table, (tots / sum(tots)))[0]\n",
    "                chosen_exam.studs += 1\n",
    "                chosen.append(chosen_exam)\n",
    "                \n",
    "            # this is the case for the free credits\n",
    "            elif key == '5':\n",
    "                print(f'Table 5: {[exam.name for exam in exam_table]}')\n",
    "                table_5_choice = random.choices(exam_table)[0]\n",
    "                print(f'Choice: {table_5_choice.name}')\n",
    "                if table_5_choice.name == 'Free ECTS credits':\n",
    "                    table_6 = list(exam_dict['6'])\n",
    "                    internship = [el for el in table_6 if el.name == 'Internship'][0]\n",
    "                    table_6.remove(internship)\n",
    "                    \n",
    "                    choice = random.choices([internship, table_6], [.40, .60])\n",
    "                    if isinstance(choice, Exam): # it is the intership\n",
    "                        chosen.append(choice)\n",
    "                        \n",
    "                    elif isinstance(choice, list): # it is the free credits\n",
    "                        cfus = sum([exam.cfu for exam in mandatory])\n",
    "                        cfus += sum([exam.cfu for exam in chosen])\n",
    "                    \n",
    "                        while cfus < TOT_CFU:\n",
    "                            tots = np.array([exam.tot for exam in table_6])\n",
    "                            free_credict_choice = random.choices(table_6, (tots / sum(tots)))[0]\n",
    "                            cfus += free_credict_choice.cfu\n",
    "                            table_6.remove(free_credict_choice)\n",
    "                            chosen.append(free_credict_choice)\n",
    "                else:\n",
    "                    chosen.append(table_5_choice)\n",
    "        return mandatory + chosen\n",
    "        \n",
    "accademic_plan = generate_accademic_plan(exams)\n",
    "[exam.name for exam in accademic_plan]"
   ]
  },
  {
   "cell_type": "code",
   "execution_count": 20,
   "metadata": {},
   "outputs": [
    {
     "name": "stdout",
     "output_type": "stream",
     "text": [
      "Modelli matematici per la Biomedicina 2 1 2\n",
      "Data management and visualization 1 1 2\n"
     ]
    }
   ],
   "source": [
    "year = 2\n",
    "semester = 1\n",
    "\n",
    "def select_tryable_exams(self):\n",
    "        tryable_exams = [exam for exam in accademic_plan if exam.year <= year and exam.semester <= semester]\n",
    "        tryable_exams = [(exam, 2) if exam.semester == semester else (exam, 1) for exam in tryable_exams]\n",
    "        \n",
    "        selected = []\n",
    "        n = 4 # THIS AS TO BE AN INPUT\n",
    "\n",
    "        while n > 0 and tryable_exams:\n",
    "            exams, attempts = zip(*tryable_exams)\n",
    "            weights = [attempt / sum(attempts) for attempt in attempts]\n",
    "            \n",
    "            chosen = random.choices(exams, weights=weights)[0]\n",
    "            index = exams.index(chosen)\n",
    "            \n",
    "            if attempts[index] > 0:\n",
    "                if attempts[index] == 2 and n >= 2:\n",
    "                    selected.append((chosen, attempts[index]))\n",
    "                    n -= attempts[index]\n",
    "                else:\n",
    "                    selected.append((chosen, 1))\n",
    "                    n -= 1\n",
    "            tryable_exams = [pair for pair in tryable_exams if not pair[0] == chosen]\n",
    "        return selected\n",
    "\n",
    "max_exam = 4\n",
    "sel = select_tryable_exams(max_exam)\n",
    "for exam,attempt in sel:\n",
    "    print(exam.name, exam.year, exam.semester, attempt)"
   ]
  },
  {
   "cell_type": "code",
   "execution_count": 21,
   "metadata": {},
   "outputs": [
    {
     "name": "stdout",
     "output_type": "stream",
     "text": [
      "Modelli matematici per la Biomedicina (30, 8)\n",
      "Data management and visualization (26, 8)\n",
      "Ho ancora 2 tentativi\n"
     ]
    }
   ],
   "source": [
    "def try_exams(max_exam):\n",
    "    tot_attempt = 0\n",
    "    for exam, attempt in sel:\n",
    "        result = None\n",
    "        while attempt > 0 and result == None:\n",
    "            result = exam.attempt()\n",
    "            attempt -= 1\n",
    "            print(exam.name, result)\n",
    "            tot_attempt += 1\n",
    "    if tot_attempt < max_exam:\n",
    "        print(f'Ho ancora {max_exam - tot_attempt} tentativi')\n",
    "\n",
    "try_exams(max_exam)"
   ]
  },
  {
   "cell_type": "code",
   "execution_count": 22,
   "metadata": {},
   "outputs": [
    {
     "data": {
      "text/plain": [
       "99.0"
      ]
     },
     "execution_count": 22,
     "metadata": {},
     "output_type": "execute_result"
    }
   ],
   "source": [
    "exams_taken = [(26,8),(30,8),(25,8)]\n",
    "\n",
    "sum([grade*cfu for grade,cfu in exams_taken]) / sum([cfu for _,cfu in exams_taken]) * 110/30"
   ]
  },
  {
   "cell_type": "code",
   "execution_count": 23,
   "metadata": {},
   "outputs": [],
   "source": [
    "from queue import PriorityQueue\n",
    "\n",
    "class Session:\n",
    "    def __init__(self, year: int, semester: int):\n",
    "        self.year = year\n",
    "        self.semester = semester\n",
    "        \n",
    "    def next_semester(self):\n",
    "        self.year += (self.semester == 3)\n",
    "        self.semester = (self.semester % 3) + 1\n",
    "    \n",
    "    def __lt__(self, other):\n",
    "        if self.year == other.year:\n",
    "            return self.semester < other.semester\n",
    "        else:\n",
    "            return self.year < other.year\n",
    "        \n",
    "    def __eq__(self, other: object) -> bool:\n",
    "        return (self.year, self.semester) == (other.year, other.semester)\n"
   ]
  },
  {
   "cell_type": "code",
   "execution_count": 25,
   "metadata": {},
   "outputs": [
    {
     "ename": "TypeError",
     "evalue": "'<' not supported between instances of 'NoneType' and 'Session'",
     "output_type": "error",
     "traceback": [
      "\u001b[1;31m---------------------------------------------------------------------------\u001b[0m",
      "\u001b[1;31mTypeError\u001b[0m                                 Traceback (most recent call last)",
      "\u001b[1;32mc:\\Users\\Edopp\\OneDrive - Politecnico di Torino\\Materiale\\Computer-aided simulation lab\\Labs\\LabG5\\labg5.ipynb Cell 12\u001b[0m line \u001b[0;36m3\n\u001b[0;32m     <a href='vscode-notebook-cell:/c%3A/Users/Edopp/OneDrive%20-%20Politecnico%20di%20Torino/Materiale/Computer-aided%20simulation%20lab/Labs/LabG5/labg5.ipynb#X14sZmlsZQ%3D%3D?line=27'>28</a>\u001b[0m         session \u001b[39m=\u001b[39m session\u001b[39m.\u001b[39mnext_semester()\n\u001b[0;32m     <a href='vscode-notebook-cell:/c%3A/Users/Edopp/OneDrive%20-%20Politecnico%20di%20Torino/Materiale/Computer-aided%20simulation%20lab/Labs/LabG5/labg5.ipynb#X14sZmlsZQ%3D%3D?line=29'>30</a>\u001b[0m     \u001b[39mprint\u001b[39m([student\u001b[39m.\u001b[39mfinal_grade \u001b[39mfor\u001b[39;00m student \u001b[39min\u001b[39;00m graduaded])\n\u001b[1;32m---> <a href='vscode-notebook-cell:/c%3A/Users/Edopp/OneDrive%20-%20Politecnico%20di%20Torino/Materiale/Computer-aided%20simulation%20lab/Labs/LabG5/labg5.ipynb#X14sZmlsZQ%3D%3D?line=31'>32</a>\u001b[0m simulate([Student(exams) \u001b[39mfor\u001b[39;49;00m _ \u001b[39min\u001b[39;49;00m \u001b[39mrange\u001b[39;49m(\u001b[39m300\u001b[39;49m)])\n",
      "\u001b[1;32mc:\\Users\\Edopp\\OneDrive - Politecnico di Torino\\Materiale\\Computer-aided simulation lab\\Labs\\LabG5\\labg5.ipynb Cell 12\u001b[0m line \u001b[0;36m9\n\u001b[0;32m      <a href='vscode-notebook-cell:/c%3A/Users/Edopp/OneDrive%20-%20Politecnico%20di%20Torino/Materiale/Computer-aided%20simulation%20lab/Labs/LabG5/labg5.ipynb#X14sZmlsZQ%3D%3D?line=5'>6</a>\u001b[0m graduaded \u001b[39m=\u001b[39m []\n\u001b[0;32m      <a href='vscode-notebook-cell:/c%3A/Users/Edopp/OneDrive%20-%20Politecnico%20di%20Torino/Materiale/Computer-aided%20simulation%20lab/Labs/LabG5/labg5.ipynb#X14sZmlsZQ%3D%3D?line=7'>8</a>\u001b[0m \u001b[39m# Event Loop\u001b[39;00m\n\u001b[1;32m----> <a href='vscode-notebook-cell:/c%3A/Users/Edopp/OneDrive%20-%20Politecnico%20di%20Torino/Materiale/Computer-aided%20simulation%20lab/Labs/LabG5/labg5.ipynb#X14sZmlsZQ%3D%3D?line=8'>9</a>\u001b[0m \u001b[39mwhile\u001b[39;00m \u001b[39mlen\u001b[39m(students) \u001b[39m>\u001b[39m \u001b[39m0\u001b[39m \u001b[39mand\u001b[39;00m session \u001b[39m<\u001b[39;49m max_session:       \n\u001b[0;32m     <a href='vscode-notebook-cell:/c%3A/Users/Edopp/OneDrive%20-%20Politecnico%20di%20Torino/Materiale/Computer-aided%20simulation%20lab/Labs/LabG5/labg5.ipynb#X14sZmlsZQ%3D%3D?line=10'>11</a>\u001b[0m     \u001b[39mfor\u001b[39;00m student \u001b[39min\u001b[39;00m students:\n\u001b[0;32m     <a href='vscode-notebook-cell:/c%3A/Users/Edopp/OneDrive%20-%20Politecnico%20di%20Torino/Materiale/Computer-aided%20simulation%20lab/Labs/LabG5/labg5.ipynb#X14sZmlsZQ%3D%3D?line=11'>12</a>\u001b[0m         n_exam \u001b[39m=\u001b[39m student\u001b[39m.\u001b[39mgenerate_num_exams(\u001b[39m3\u001b[39m, \u001b[39m4\u001b[39m)\n",
      "\u001b[1;31mTypeError\u001b[0m: '<' not supported between instances of 'NoneType' and 'Session'"
     ]
    }
   ],
   "source": [
    "from labg5 import Session\n",
    "\n",
    "max_session = Session(5,3)\n",
    "\n",
    "def simulate(students: list[Student]):\n",
    "    \n",
    "    session = Session(1,1)\n",
    "    graduaded = []\n",
    "    \n",
    "    # Event Loop\n",
    "    while len(students) > 0 and session < max_session:       \n",
    "        \n",
    "        for student in students:\n",
    "            n_exam = student.generate_num_exams(3, 4)\n",
    "            exams_to_try = student.select_tryable_exams(n_exam, session.year, session.semester)\n",
    "            \n",
    "            for exam,n_attempts in exams_to_try:\n",
    "                attempt = None\n",
    "                while n_attempts > 0 and attempt is None:\n",
    "                    attempt = exam.attempt()\n",
    "                    if attempt:\n",
    "                        student.exams_to_take.remove(exam)\n",
    "                        student.exams_taken.append(attempt)\n",
    "\n",
    "            if student.can_graduate():\n",
    "                students.remove(student)\n",
    "                student.calculate_final_grade()\n",
    "                graduaded.append(student)\n",
    "        \n",
    "        session = session.next_semester()\n",
    "        \n",
    "    print([student.final_grade for student in graduaded])\n",
    "    \n",
    "simulate([Student(exams) for _ in range(300)])"
   ]
  }
 ],
 "metadata": {
  "kernelspec": {
   "display_name": "Python 3",
   "language": "python",
   "name": "python3"
  },
  "language_info": {
   "codemirror_mode": {
    "name": "ipython",
    "version": 3
   },
   "file_extension": ".py",
   "mimetype": "text/x-python",
   "name": "python",
   "nbconvert_exporter": "python",
   "pygments_lexer": "ipython3",
   "version": "3.10.11"
  }
 },
 "nbformat": 4,
 "nbformat_minor": 2
}
