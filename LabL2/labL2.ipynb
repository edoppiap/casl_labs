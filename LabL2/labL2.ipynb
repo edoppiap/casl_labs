{
 "cells": [
  {
   "cell_type": "code",
   "execution_count": 12,
   "metadata": {},
   "outputs": [],
   "source": [
    "from labL2 import *\n",
    "\n",
    "# Initialization\n",
    "system = System(arr_lambda=ARRIVAL_LAMBDA, \n",
    "                serv_lambda=SERVICE_LAMBDA, \n",
    "                n_server=1)\n",
    "time = 0\n",
    "\n",
    "FES = PriorityQueue()\n",
    "queue = Queue()\n",
    "paused = Queue() # this will store all the clients that has been stopped\n",
    "\n",
    "FES.put(Event(0,'arrival'))"
   ]
  },
  {
   "cell_type": "code",
   "execution_count": 13,
   "metadata": {},
   "outputs": [
    {
     "name": "stdout",
     "output_type": "stream",
     "text": [
      "Urgency.RED\n",
      "True False\n"
     ]
    }
   ],
   "source": [
    "system.servers.start_service_if_possible(Client(1, urgency=Urgency.GREEN))\n",
    "client_yellow = Client(1, urgency=Urgency.YELLOW)\n",
    "result = system.servers.start_service_if_possible(client_yellow)\n",
    "if not result:\n",
    "    queue.enqueue(client_yellow)\n",
    "client_red_1 = Client(1, urgency=Urgency.RED)\n",
    "result = system.servers.start_service_if_possible(client_red_1)\n",
    "\n",
    "for client in system.servers.servers:\n",
    "    print(client.urgency)\n",
    "\n",
    "paused.enqueue(result)\n",
    "client_red_2 = Client(1, urgency=Urgency.RED)\n",
    "system.servers.start_service_if_possible(client_red_2)\n",
    "queue.enqueue(client_red_2)\n",
    "\n",
    "system.servers.departure(client_red_1)\n",
    "print(queue.has_red_waiting(), paused.has_red_waiting())"
   ]
  },
  {
   "cell_type": "code",
   "execution_count": 9,
   "metadata": {},
   "outputs": [
    {
     "name": "stdout",
     "output_type": "stream",
     "text": [
      "--------\n",
      "Urgency.RED\n"
     ]
    }
   ],
   "source": [
    "for client in queue.queue:\n",
    "    print(client.urgency)\n",
    "print('--------')\n",
    "for client in system.servers.servers:\n",
    "    print(client.urgency)"
   ]
  },
  {
   "cell_type": "code",
   "execution_count": 12,
   "metadata": {},
   "outputs": [
    {
     "name": "stdout",
     "output_type": "stream",
     "text": [
      "0\n"
     ]
    },
    {
     "data": {
      "text/plain": [
       "True"
      ]
     },
     "execution_count": 12,
     "metadata": {},
     "output_type": "execute_result"
    }
   ],
   "source": [
    "print(FES.get().time)\n",
    "FES.has_no_events()"
   ]
  }
 ],
 "metadata": {
  "kernelspec": {
   "display_name": "Python 3",
   "language": "python",
   "name": "python3"
  },
  "language_info": {
   "codemirror_mode": {
    "name": "ipython",
    "version": 3
   },
   "file_extension": ".py",
   "mimetype": "text/x-python",
   "name": "python",
   "nbconvert_exporter": "python",
   "pygments_lexer": "ipython3",
   "version": "3.10.11"
  }
 },
 "nbformat": 4,
 "nbformat_minor": 2
}
