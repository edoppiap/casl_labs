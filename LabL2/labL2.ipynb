{
 "cells": [
  {
   "cell_type": "code",
   "execution_count": 141,
   "metadata": {},
   "outputs": [],
   "source": [
    "from enum import Enum \n",
    "\n",
    "class Urgency(Enum):\n",
    "    RED = 1\n",
    "    YELLOW = 2\n",
    "    GREEN = 3"
   ]
  },
  {
   "cell_type": "code",
   "execution_count": 238,
   "metadata": {},
   "outputs": [],
   "source": [
    "import random\n",
    "\n",
    "class Client():\n",
    "    def __init__(self, arrival_time, urgency=None):\n",
    "        self.urgency = self.setUrgency() if urgency is None else urgency\n",
    "        self.arrival_time = arrival_time\n",
    "        \n",
    "    def setUrgency(self):\n",
    "        \"\"\"\n",
    "        Randomly assigns an urgency level to a customer based on specified probabilities.\n",
    "\n",
    "        Returns:\n",
    "            str: The assigned urgency level, which can be 'Red', 'Yellow', or 'Green'.\n",
    "\n",
    "        Probability Distribution:\n",
    "            - 'Red': 1/6 (approximately 16.67%)\n",
    "            - 'Yellow': 1/3 (approximately 33.33%)\n",
    "            - 'Green': 1/2 (approximately 50%)\n",
    "\n",
    "        Usage:\n",
    "            Use this method to assign urgency levels to customers in a queue system.\n",
    "        \"\"\"\n",
    "        rnd = random.uniform(0,1)\n",
    "        if rnd < 1/ 6:\n",
    "            return Urgency.RED\n",
    "        elif rnd < 1/2: # this means that the Yellow probabilities is 1/6 - 1/2 = 1/3\n",
    "            return Urgency.YELLOW\n",
    "        else: # the remaining samples (1/2 of it) fall under this condition\n",
    "            return Urgency.GREEN\n",
    "        \n",
    "    def compareTo(self,other):\n",
    "        \"\"\"\n",
    "        If returns something < 0 it means that the other is less urgent.\n",
    "        If returns something > 0 it means that the other is more urgent.\n",
    "        If returns something == 0 it means that the other has the same urgency.\n",
    "\n",
    "        Args:\n",
    "            other (Client): It's the client to compare this client with\n",
    "\n",
    "        Returns:\n",
    "            int: Returns the difference between the enum values\n",
    "        \"\"\"\n",
    "        compare = self.urgency.value - other.urgency.value\n",
    "        if compare == 0:\n",
    "            compare = self.arrival_time - other.arrival_time\n",
    "        return compare"
   ]
  },
  {
   "cell_type": "code",
   "execution_count": 239,
   "metadata": {},
   "outputs": [
    {
     "data": {
      "text/plain": [
       "-9"
      ]
     },
     "execution_count": 239,
     "metadata": {},
     "output_type": "execute_result"
    }
   ],
   "source": [
    "client1 = Client(arrival_time=1, urgency=Urgency.GREEN)\n",
    "client2 = Client(arrival_time=10, urgency=Urgency.GREEN)\n",
    "\n",
    "client1.compareTo(client2)"
   ]
  },
  {
   "cell_type": "code",
   "execution_count": 233,
   "metadata": {},
   "outputs": [],
   "source": [
    "class Queue():\n",
    "    def __init__(self):\n",
    "        self.queue = []\n",
    "        \n",
    "    def enqueue(self,new_client):\n",
    "        index = None\n",
    "        for i,client in enumerate(self.queue):\n",
    "            if client.compareTo(new_client) >= 0:\n",
    "                if client.arrival_time > new_client.arrival_time:\n",
    "                    index = i\n",
    "                    break\n",
    "        if index is None:\n",
    "            self.queue.append(new_client)\n",
    "        else:\n",
    "            self.queue.insert(index,new_client)\n",
    "            \n",
    "    def dequeue(self):\n",
    "        return self.queue.pop(0)"
   ]
  },
  {
   "cell_type": "code",
   "execution_count": 234,
   "metadata": {},
   "outputs": [
    {
     "name": "stdout",
     "output_type": "stream",
     "text": [
      "0 Urgency.GREEN\n",
      "1 Urgency.RED\n",
      "2 Urgency.RED\n",
      "3 Urgency.GREEN\n",
      "4 Urgency.GREEN\n",
      "5 Urgency.YELLOW\n",
      "6 Urgency.GREEN\n",
      "7 Urgency.GREEN\n",
      "8 Urgency.YELLOW\n",
      "9 Urgency.YELLOW\n",
      "\n",
      "\n",
      "\n",
      "0 Urgency.GREEN\n"
     ]
    }
   ],
   "source": [
    "queue = Queue()\n",
    "for i in range(10):\n",
    "    queue.enqueue(Client(arrival_time=i, urgency=Urgency.GREEN))\n",
    "\n",
    "    \n",
    "for client in queue.queue:\n",
    "    print(client.arrival_time, client.urgency)\n",
    "    \n",
    "print('\\n\\n')\n",
    "    \n",
    "client= queue.dequeue()\n",
    "print(client.arrival_time, client.urgency)\n",
    "\n",
    "client = queue.enqueue(Client(arrival_time=11,urgency=Urgency.RED))\n",
    "\n",
    "client= queue.dequeue()\n",
    "print(client.arrival_time, client.urgency)"
   ]
  }
 ],
 "metadata": {
  "kernelspec": {
   "display_name": "Python 3",
   "language": "python",
   "name": "python3"
  },
  "language_info": {
   "codemirror_mode": {
    "name": "ipython",
    "version": 3
   },
   "file_extension": ".py",
   "mimetype": "text/x-python",
   "name": "python",
   "nbconvert_exporter": "python",
   "pygments_lexer": "ipython3",
   "version": "3.10.11"
  }
 },
 "nbformat": 4,
 "nbformat_minor": 2
}
